{
 "cells": [
  {
   "cell_type": "markdown",
   "metadata": {},
   "source": [
    "### Proyecto cartera"
   ]
  },
  {
   "cell_type": "code",
   "execution_count": 1,
   "metadata": {},
   "outputs": [],
   "source": [
    "import pandas as pd\n",
    "import numpy as np\n",
    "import matplotlib.pyplot as plt\n",
    "import seaborn as sns"
   ]
  },
  {
   "cell_type": "code",
   "execution_count": 2,
   "metadata": {},
   "outputs": [],
   "source": [
    "cartera = {\n",
    "    'owner': 'Aarón García',\n",
    "    'balance': 10000,\n",
    "    'expenses': [],\n",
    "    'incomes': []\n",
    "}"
   ]
  },
  {
   "cell_type": "code",
   "execution_count": 8,
   "metadata": {},
   "outputs": [],
   "source": [
    "class Wallet:\n",
    "    \n",
    "    def __init__(self,inputs):\n",
    "        self.inputs = inputs\n",
    "        active = True\n",
    "        while active:\n",
    "            self.menu()\n",
    "            keep_using = input('Do you want to perform another action (yes/no): ')\n",
    "            if keep_using == 'yes':\n",
    "                active = True\n",
    "            else:\n",
    "                active = False\n",
    "    \n",
    "    def menu(self):\n",
    "        print('-----MENU FINANCIAL WALLET-----')\n",
    "        print('Select an option:')\n",
    "        print('1- Add new expense')\n",
    "        print('2- Add new income')\n",
    "        print('3- See expenses')\n",
    "        print('4- See incomes')\n",
    "        print('----------')\n",
    "        action = input('Action to perform: ')\n",
    "        self.select_action(action)\n",
    "        \n",
    "    def select_action(self,action):\n",
    "        if action == '1':\n",
    "            self.add_expense()\n",
    "        elif action == '2':\n",
    "            self.add_income()\n",
    "        elif action == '3':\n",
    "            self.see_expenses()\n",
    "        elif action == '4':\n",
    "            self.see_incomes()\n",
    "        else:\n",
    "            print('Invalid Action Input. Try Again.')\n",
    "    \n",
    "    def add_expense(self):\n",
    "        expense_name = input('Expense name: ')\n",
    "        expense_description = input('Expense description: ')\n",
    "        expense_amount = float(input('Expense amount: '))\n",
    "        self.inputs['expenses'].append(self.create_new(expense_name,expense_description,expense_amount))\n",
    "        \n",
    "    def add_income(self):\n",
    "        income_name = input('Income name: ')\n",
    "        income_description = input('Income description: ')\n",
    "        income_amount = float(input('Income amount: '))\n",
    "        self.inputs['incomes'].append(self.create_new(income_name,income_description,income_amount))\n",
    "    \n",
    "    def create_new(self,name,description,amount):\n",
    "        new = {\n",
    "            'name': name,\n",
    "            'description': description,\n",
    "            'amount': amount\n",
    "        }\n",
    "        return new\n",
    "    \n",
    "    def see_expenses(self):\n",
    "        for expense in self.inputs['expenses']:\n",
    "            print(expense)\n",
    "            \n",
    "    def see_incomes(self):\n",
    "        for income in self.inputs['incomes']:\n",
    "            print(income)"
   ]
  },
  {
   "cell_type": "code",
   "execution_count": 10,
   "metadata": {},
   "outputs": [
    {
     "name": "stdout",
     "output_type": "stream",
     "text": [
      "-----MENU FINANCIAL WALLET-----\n",
      "Select an option:\n",
      "1- Add new expense\n",
      "2- Add new income\n",
      "3- See expenses\n",
      "4- See incomes\n",
      "----------\n",
      "-----MENU FINANCIAL WALLET-----\n",
      "Select an option:\n",
      "1- Add new expense\n",
      "2- Add new income\n",
      "3- See expenses\n",
      "4- See incomes\n",
      "----------\n",
      "-----MENU FINANCIAL WALLET-----\n",
      "Select an option:\n",
      "1- Add new expense\n",
      "2- Add new income\n",
      "3- See expenses\n",
      "4- See incomes\n",
      "----------\n",
      "-----MENU FINANCIAL WALLET-----\n",
      "Select an option:\n",
      "1- Add new expense\n",
      "2- Add new income\n",
      "3- See expenses\n",
      "4- See incomes\n",
      "----------\n",
      "{'name': 'Gansito', 'description': 'Gansito de chocolate', 'amount': 18.0}\n",
      "{'name': 'Boneless', 'description': 'Boneless BBQ', 'amount': 345.0}\n",
      "{'name': 'Gansito', 'description': 'Gansito de chocolate', 'amount': 18.0}\n",
      "{'name': 'Boneless', 'description': 'Boneless BBQ', 'amount': 346.0}\n",
      "-----MENU FINANCIAL WALLET-----\n",
      "Select an option:\n",
      "1- Add new expense\n",
      "2- Add new income\n",
      "3- See expenses\n",
      "4- See incomes\n",
      "----------\n",
      "{'name': 'Trabajo', 'description': 'Base de datos cliente 1', 'amount': 2600.0}\n",
      "{'name': 'Trabajo', 'description': 'Base de datos cliente 1', 'amount': 2700.0}\n"
     ]
    }
   ],
   "source": [
    "w = Wallet(cartera)"
   ]
  }
 ],
 "metadata": {
  "kernelspec": {
   "display_name": "Python 3",
   "language": "python",
   "name": "python3"
  },
  "language_info": {
   "codemirror_mode": {
    "name": "ipython",
    "version": 3
   },
   "file_extension": ".py",
   "mimetype": "text/x-python",
   "name": "python",
   "nbconvert_exporter": "python",
   "pygments_lexer": "ipython3",
   "version": "3.11.4"
  }
 },
 "nbformat": 4,
 "nbformat_minor": 2
}
