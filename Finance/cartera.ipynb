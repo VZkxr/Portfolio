{
 "cells": [
  {
   "cell_type": "markdown",
   "metadata": {},
   "source": [
    "### Proyecto cartera"
   ]
  },
  {
   "cell_type": "code",
   "execution_count": 1,
   "metadata": {},
   "outputs": [],
   "source": [
    "carpet = {\n",
    "    'owner': 'Aarón García',\n",
    "    'balance': 10000,\n",
    "    'expenses': [],\n",
    "    'incomes': []\n",
    "}"
   ]
  },
  {
   "cell_type": "code",
   "execution_count": 2,
   "metadata": {},
   "outputs": [],
   "source": [
    "class Wallet:\n",
    "    \n",
    "    def __init__(self,inputs):\n",
    "        self.inputs = inputs\n",
    "        active = True\n",
    "        while active:\n",
    "            self.menu()\n",
    "            keep_using = input('Do you want to perform another action (yes/no): ')\n",
    "            if keep_using == 'yes':\n",
    "                active = True\n",
    "            else:\n",
    "                active = False\n",
    "    \n",
    "    def menu(self):\n",
    "        print('-----MENU FINANCIAL WALLET-----')\n",
    "        print('Select an option:')\n",
    "        print('1- Add new expense')\n",
    "        print('2- Add new income')\n",
    "        print('3- See expenses')\n",
    "        print('4- See incomes')\n",
    "        print('5- See wallet')\n",
    "        print('----------')\n",
    "        action = input('Action to perform: ')\n",
    "        self.select_action(action)\n",
    "        \n",
    "    def select_action(self,action):\n",
    "        if action == '1':\n",
    "            self.add_expense()\n",
    "        elif action == '2':\n",
    "            self.add_income()\n",
    "        elif action == '3':\n",
    "            self.see_expenses()\n",
    "        elif action == '4':\n",
    "            self.see_incomes()\n",
    "        elif action == '5':\n",
    "            self.see_wallet()\n",
    "        else:\n",
    "            print('Invalid Action Input. Try Again.')\n",
    "    \n",
    "    def add_expense(self):\n",
    "        expense_name = input('Expense name: ')\n",
    "        expense_description = input('Expense description: ')\n",
    "        expense_amount = float(input('Expense amount: '))\n",
    "        carpet['balance'] = carpet['balance'] - expense_amount\n",
    "        self.inputs['expenses'].append(self.create_new(expense_name,expense_description,expense_amount))\n",
    "        \n",
    "    def add_income(self):\n",
    "        income_name = input('Income name: ')\n",
    "        income_description = input('Income description: ')\n",
    "        income_amount = float(input('Income amount: '))\n",
    "        carpet['balance'] = carpet['balance'] + income_amount\n",
    "        self.inputs['incomes'].append(self.create_new(income_name,income_description,income_amount))\n",
    "    \n",
    "    def create_new(self,name,description,amount):\n",
    "        new = {\n",
    "            'name': name,\n",
    "            'description': description,\n",
    "            'amount': amount\n",
    "        }\n",
    "        return new\n",
    "    \n",
    "    def see_expenses(self):\n",
    "        for expense in self.inputs['expenses']:\n",
    "            print(expense)\n",
    "            \n",
    "    def see_incomes(self):\n",
    "        for income in self.inputs['incomes']:\n",
    "            print(income)\n",
    "    \n",
    "    def see_wallet(self):\n",
    "        print(carpet)"
   ]
  },
  {
   "cell_type": "code",
   "execution_count": 3,
   "metadata": {},
   "outputs": [
    {
     "name": "stdout",
     "output_type": "stream",
     "text": [
      "-----MENU FINANCIAL WALLET-----\n",
      "Select an option:\n",
      "1- Add new expense\n",
      "2- Add new income\n",
      "3- See expenses\n",
      "4- See incomes\n",
      "5- See wallet\n",
      "----------\n",
      "-----MENU FINANCIAL WALLET-----\n",
      "Select an option:\n",
      "1- Add new expense\n",
      "2- Add new income\n",
      "3- See expenses\n",
      "4- See incomes\n",
      "5- See wallet\n",
      "----------\n",
      "-----MENU FINANCIAL WALLET-----\n",
      "Select an option:\n",
      "1- Add new expense\n",
      "2- Add new income\n",
      "3- See expenses\n",
      "4- See incomes\n",
      "5- See wallet\n",
      "----------\n",
      "{'owner': 'Aarón García', 'balance': 14983.0, 'expenses': [{'name': 'Chocolate', 'description': 'En agua', 'amount': 17.0}], 'incomes': [{'name': 'Proyecto ', 'description': 'Ghidora', 'amount': 5000.0}]}\n"
     ]
    }
   ],
   "source": [
    "w = Wallet(carpet)"
   ]
  }
 ],
 "metadata": {
  "kernelspec": {
   "display_name": "Python 3",
   "language": "python",
   "name": "python3"
  },
  "language_info": {
   "codemirror_mode": {
    "name": "ipython",
    "version": 3
   },
   "file_extension": ".py",
   "mimetype": "text/x-python",
   "name": "python",
   "nbconvert_exporter": "python",
   "pygments_lexer": "ipython3",
   "version": "3.11.4"
  }
 },
 "nbformat": 4,
 "nbformat_minor": 2
}
