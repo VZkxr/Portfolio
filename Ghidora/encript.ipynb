{
 "cells": [
  {
   "cell_type": "code",
   "execution_count": 6,
   "metadata": {},
   "outputs": [],
   "source": [
    "#### Paqueterías ####\n",
    "import re"
   ]
  },
  {
   "cell_type": "code",
   "execution_count": 11,
   "metadata": {},
   "outputs": [
    {
     "name": "stdout",
     "output_type": "stream",
     "text": [
      "{'A': 'oneQ', 'a': 'oneq', 'B': 'zeroW', 'b': 'zerow', 'C': 'oneE', 'c': 'onee', 'D': 'zeroR', 'd': 'zeror', 'E': 'oneT', 'e': 'onet', 'F': 'zeroY', 'f': 'zeroy', 'G': 'oneU', 'g': 'oneu', 'H': 'zeroI', 'h': 'zeroi', 'I': 'oneS', 'i': 'ones', 'J': 'zeroP', 'j': 'zerop', 'K': 'oneA', 'k': 'onea', 'L': 'zeroS', 'l': 'zeros', 'M': 'oneD', 'm': 'oned', 'N': 'zeroF', 'n': 'zerof', 'Ñ': 'oneG', 'ñ': 'oneg', 'O': 'zeroH', 'o': 'zeroh', 'P': 'oneJ', 'p': 'onej', 'Q': 'oneK', 'q': 'onek', 'R': 'zeroL', 'r': 'zerol', 'S': 'oneR', 's': 'oner', 'T': 'zeroZ', 't': 'zeroz', 'U': 'oneX', 'u': 'onex', 'V': 'zeroC', 'v': 'zeroc', 'W': 'oneV', 'w': 'onev', 'X': 'zeroB', 'x': 'zerob', 'Y': 'oneN', 'y': 'onen', 'Z': 'zeroM', 'z': 'zerom', ' ': 'oneW', ',': 'onew', '.': 'zeroQ', ':': 'zeroq', ';': 'oneY', '_': 'oney', 'á': 'zeroE', 'é': 'zeroe', 'í': 'oneI', 'ó': 'onei', 'ú': 'zeroT', '@': 'zerot', '(': 'oneP', ')': 'onep', '¿': 'zeroU', '?': 'zerou', '¡': 'oneF', '!': 'onef', '$': 'zeroA', '%': 'zeroa', '1': 'oneH', '2': 'oneh', '3': 'zeroD', '4': 'zerod', '5': 'oneL', '6': 'onel', '7': 'zeroG', '8': 'zerog', '9': 'oneZ', '0': 'onez'}\n"
     ]
    }
   ],
   "source": [
    "enc_v_s = [\"oneQ\", \"oneq\", \"zeroW\", \"zerow\", \"oneE\", \"onee\", \n",
    "         \"zeroR\", \"zeror\", \"oneT\", \"onet\", \"zeroY\", \"zeroy\",\n",
    "         \"oneU\", \"oneu\", \"zeroI\", \"zeroi\", \"oneS\", \"ones\",\n",
    "         \"zeroP\", \"zerop\", \"oneA\", \"onea\", \"zeroS\", \"zeros\",\n",
    "         \"oneD\", \"oned\", \"zeroF\", \"zerof\", \"oneG\", \"oneg\",\n",
    "         \"zeroH\", \"zeroh\", \"oneJ\", \"onej\", \"oneK\", \"onek\",\n",
    "         \"zeroL\", \"zerol\", \"oneR\", \"oner\", \"zeroZ\", \"zeroz\",\n",
    "         \"oneX\", \"onex\", \"zeroC\", \"zeroc\", \"oneV\", \"onev\",\n",
    "         \"zeroB\", \"zerob\", \"oneN\", \"onen\", \"zeroM\", \"zerom\",\n",
    "         \"oneW\", \"onew\", \"zeroQ\", \"zeroq\", \"oneY\", \"oney\",\n",
    "         \"zeroE\", \"zeroe\", \"oneI\", \"onei\", \"zeroT\", \"zerot\",\n",
    "         \"oneP\", \"onep\", \"zeroU\", \"zerou\", \"oneF\", \"onef\",\n",
    "         \"zeroA\", \"zeroa\", \"oneH\", \"oneh\", \"zeroD\", \"zerod\",\n",
    "         \"oneL\", \"onel\", \"zeroG\", \"zerog\", \"oneZ\", \"onez\"]\n",
    "\n",
    "lett_v = [\"A\", \"a\", \"B\", \"b\", \"C\", \"c\", \"D\", \"d\", \"E\", \"e\", \"F\", \"f\", \"G\", \"g\",\n",
    "          \"H\", \"h\", \"I\", \"i\", \"J\", \"j\", \"K\", \"k\", \"L\", \"l\", \"M\", \"m\", \"N\", \"n\",\n",
    "          \"Ñ\", \"ñ\", \"O\", \"o\", \"P\", \"p\", \"Q\", \"q\", \"R\", \"r\", \"S\", \"s\", \"T\", \"t\",\n",
    "          \"U\", \"u\", \"V\", \"v\", \"W\", \"w\", \"X\", \"x\", \"Y\", \"y\", \"Z\", \"z\", \" \", \",\", \n",
    "          \".\", \":\", \";\", \"_\", \"á\", \"é\", \"í\", \"ó\", \"ú\", \"@\", \"(\", \")\", \"¿\", \"?\",\n",
    "          \"¡\", \"!\", \"$\", \"%\", \"1\", \"2\", \"3\", \"4\", \"5\", \"6\", \"7\", \"8\", \"9\", \"0\"]\n",
    "\n",
    "dic_v = {lett_v:enc_v_s for (lett_v, enc_v_s) in zip(lett_v, enc_v_s)}\n",
    "print(dic_v)"
   ]
  },
  {
   "cell_type": "code",
   "execution_count": 26,
   "metadata": {},
   "outputs": [],
   "source": [
    "#### FUNCIONES ####\n",
    "def enc_m(message):         #Cifrar mensaje\n",
    "    lista_m = []\n",
    "    result = \"\"\n",
    "    for letra in message:\n",
    "        lista_m.append(letra)\n",
    "    for letra in lista_m:\n",
    "        if letra in dic_v:\n",
    "            result += dic_v[letra]\n",
    "    return result\n",
    "\n",
    "def dec_m(encm):            #Descifrar mensaje\n",
    "    key_found = []\n",
    "    pattern = r'(zero|one)([a-zA-Z])'\n",
    "    matches = re.findall(pattern, encm)\n",
    "    lista = [match[0] + match[1] for match in matches]\n",
    "    for encript in lista:\n",
    "        for key, value in dic_v.items():\n",
    "            if encript == value:\n",
    "                key_found.append(key)\n",
    "    result = ''.join(key_found)\n",
    "    return result "
   ]
  },
  {
   "cell_type": "code",
   "execution_count": 27,
   "metadata": {},
   "outputs": [
    {
     "name": "stdout",
     "output_type": "stream",
     "text": [
      "zeroIzerohzerosoneqonewoneWonerzerohonenoneWoneUzeroioneszerorzerohzeroloneqzeroQoneWoneDonesoneWonejzerolzerohonejoneioneroneszerozzerohoneWonetoneroneWzerohzeroyzerolonetoneeonetzeroloneWonexzerofoneWoneronetzerolzeroconesoneeoneszerohoneWzeroronetoneWonedonetzerofoneroneqzeroponetzeroloneIoneqoneWoneeoneszeroyzeroloneqzeroroneqonewoneWonejzeroloneszeroconeqzeroroneqoneWonenoneWoneronetoneuonexzeroloneqzeroQ\n"
     ]
    }
   ],
   "source": [
    "sms0 = \"Hola, soy Ghidora. Mi propósito es ofrecer un servicio de mensajería cifrada, privada y segura.\"\n",
    "sms0text = enc_m(sms0)\n",
    "print(sms0text)"
   ]
  },
  {
   "cell_type": "code",
   "execution_count": 28,
   "metadata": {},
   "outputs": [
    {
     "name": "stdout",
     "output_type": "stream",
     "text": [
      "Hola, soy Ghidora. Mi propósito es ofrecer un servicio de mensajería cifrada, privada y segura."
     ]
    }
   ],
   "source": [
    "sms1 = str(sms0text)\n",
    "sms1text = dec_m(sms1)\n",
    "print(sms1text, end='')"
   ]
  }
 ],
 "metadata": {
  "kernelspec": {
   "display_name": "Python 3",
   "language": "python",
   "name": "python3"
  },
  "language_info": {
   "codemirror_mode": {
    "name": "ipython",
    "version": 3
   },
   "file_extension": ".py",
   "mimetype": "text/x-python",
   "name": "python",
   "nbconvert_exporter": "python",
   "pygments_lexer": "ipython3",
   "version": "3.10.10"
  },
  "orig_nbformat": 4
 },
 "nbformat": 4,
 "nbformat_minor": 2
}
